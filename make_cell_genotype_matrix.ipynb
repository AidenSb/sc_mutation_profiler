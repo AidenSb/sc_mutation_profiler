{
 "cells": [
  {
   "cell_type": "code",
   "execution_count": 15,
   "metadata": {},
   "outputs": [],
   "source": [
    "import pdb,sys,os, csv\n",
    "import pandas as pd\n",
    "import time\n",
    "import numpy as np\n",
    "from matplotlib import pyplot as plt\n",
    "import seaborn as sns\n",
    "from scipy.sparse import dok_matrix"
   ]
  },
  {
   "cell_type": "code",
   "execution_count": 2,
   "metadata": {},
   "outputs": [],
   "source": [
    "#enter the vcf files directory\n",
    "vcfdir = \"/home/aiden/hdd/backup_27_04_2020/gary/projects/GBM/unsorted/g6/bam/vars/Cell_cars/jvcf/sample/\"\n",
    "cells_directory=os.listdir(vcfdir)\n",
    "nSNVs = {}"
   ]
  },
  {
   "cell_type": "code",
   "execution_count": 7,
   "metadata": {},
   "outputs": [],
   "source": [
    "##makes the cell list, and dictionary of genotypes:[cells...]\n",
    "def make_dic(cells_directory):\n",
    "    SNVs = {}\n",
    "    cell_list = []\n",
    "    for j in cells_directory:\n",
    "        if j.split(\".\")[-1]==\"vcf\":\n",
    "            cell_list.append(j.split(\".\")[0])\n",
    "            file = vcfdir+j\n",
    "            with open(file, newline = '') as vcffile:                                                                                          \n",
    "                inpvcf = csv.reader(vcffile, delimiter='\\t')\n",
    "                inp=[item for item in inpvcf if len(item)>1]\n",
    "                inp.pop(0)\n",
    "            for i in inp:\n",
    "                key=i[0]+\",\"+i[1]+\"_GT_\"+i[-1].split(\":\")[0]\n",
    "                if not key in SNVs.keys():\n",
    "                    SNVs[key] = [j.split(\".\")[0]]\n",
    "                else:\n",
    "                    SNVs[key].append(j.split(\".\")[0])\n",
    "    return cell_list,SNVs"
   ]
  },
  {
   "cell_type": "code",
   "execution_count": 16,
   "metadata": {},
   "outputs": [],
   "source": [
    "cell_list,cell_gt_dictionary = make_dic(cells_directory)"
   ]
  },
  {
   "cell_type": "code",
   "execution_count": 26,
   "metadata": {},
   "outputs": [],
   "source": [
    "#recoded the gts and cells to ints and then made a sparse matrix with scipy dok_matrix\n",
    "coded_cells,coded_gts = {},{}\n",
    "for i,cell in enumerate(cell_list):\n",
    "    coded_cells[cell] = i\n",
    "for j,gt in enumerate(cell_gt_dictionary.keys()):\n",
    "    coded_gts[gt] = j\n",
    "mat =dok_matrix((len(cell_gt_dictionary),len(cell_list)), dtype=np.int)\n",
    "for gt,cells in cell_gt_dictionary.items():\n",
    "    for cell in cells:\n",
    "        mat[coded_gts[gt],coded_cells[cell]] = 1"
   ]
  },
  {
   "cell_type": "code",
   "execution_count": 27,
   "metadata": {},
   "outputs": [],
   "source": []
  },
  {
   "cell_type": "code",
   "execution_count": 28,
   "metadata": {
    "scrolled": false
   },
   "outputs": [],
   "source": []
  },
  {
   "cell_type": "code",
   "execution_count": 32,
   "metadata": {},
   "outputs": [
    {
     "data": {
      "text/plain": [
       "276848"
      ]
     },
     "execution_count": 32,
     "metadata": {},
     "output_type": "execute_result"
    }
   ],
   "source": [
    "mat.count_nonzero()"
   ]
  },
  {
   "cell_type": "code",
   "execution_count": 35,
   "metadata": {
    "scrolled": true
   },
   "outputs": [
    {
     "name": "stdout",
     "output_type": "stream",
     "text": [
      "  (0, 981)\t1\n",
      "  (0, 965)\t1\n",
      "  (0, 957)\t1\n",
      "  (0, 950)\t1\n",
      "  (0, 944)\t1\n",
      "  (0, 876)\t1\n",
      "  (0, 860)\t1\n",
      "  (0, 852)\t1\n",
      "  (0, 850)\t1\n",
      "  (0, 843)\t1\n",
      "  (0, 841)\t1\n",
      "  (0, 831)\t1\n",
      "  (0, 828)\t1\n",
      "  (0, 803)\t1\n",
      "  (0, 794)\t1\n",
      "  (0, 779)\t1\n",
      "  (0, 760)\t1\n",
      "  (0, 749)\t1\n",
      "  (0, 747)\t1\n",
      "  (0, 737)\t1\n",
      "  (0, 735)\t1\n",
      "  (0, 732)\t1\n",
      "  (0, 704)\t1\n",
      "  (0, 703)\t1\n",
      "  (0, 696)\t1\n",
      "  :\t:\n",
      "  (0, 293)\t1\n",
      "  (0, 240)\t1\n",
      "  (0, 237)\t1\n",
      "  (0, 220)\t1\n",
      "  (0, 200)\t1\n",
      "  (0, 199)\t1\n",
      "  (0, 195)\t1\n",
      "  (0, 182)\t1\n",
      "  (0, 180)\t1\n",
      "  (0, 151)\t1\n",
      "  (0, 136)\t1\n",
      "  (0, 134)\t1\n",
      "  (0, 132)\t1\n",
      "  (0, 109)\t1\n",
      "  (0, 107)\t1\n",
      "  (0, 104)\t1\n",
      "  (0, 101)\t1\n",
      "  (0, 59)\t1\n",
      "  (0, 53)\t1\n",
      "  (0, 37)\t1\n",
      "  (0, 34)\t1\n",
      "  (0, 25)\t1\n",
      "  (0, 21)\t1\n",
      "  (0, 16)\t1\n",
      "  (0, 0)\t1\n"
     ]
    }
   ],
   "source": []
  },
  {
   "cell_type": "code",
   "execution_count": null,
   "metadata": {},
   "outputs": [],
   "source": []
  }
 ],
 "metadata": {
  "kernelspec": {
   "display_name": "Python 3",
   "language": "python",
   "name": "python3"
  },
  "language_info": {
   "codemirror_mode": {
    "name": "ipython",
    "version": 3
   },
   "file_extension": ".py",
   "mimetype": "text/x-python",
   "name": "python",
   "nbconvert_exporter": "python",
   "pygments_lexer": "ipython3",
   "version": "3.7.4"
  }
 },
 "nbformat": 4,
 "nbformat_minor": 2
}
